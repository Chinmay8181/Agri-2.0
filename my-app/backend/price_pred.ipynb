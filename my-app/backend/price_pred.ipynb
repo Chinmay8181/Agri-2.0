{
  "cells": [
    {
      "cell_type": "code",
      "execution_count": 6,
      "metadata": {
        "_cell_guid": "b1076dfc-b9ad-4769-8c92-a6c4dae69d19",
        "_uuid": "8f2839f25d086af736a60e9eeb907d3b93b6e0e5",
        "colab": {
          "base_uri": "https://localhost:8080/"
        },
        "id": "3_HjethpAPFR",
        "outputId": "8ca82356-8235-4a1c-879b-e84d94e6e8db"
      },
      "outputs": [
        {
          "name": "stdout",
          "output_type": "stream",
          "text": [
            "Min Price: 2140.0, Max Price: 2700.0, Modal Price: 2340.0\n",
            "No matching data found\n",
            "Min Price: 4000.0, Max Price: 4600.0, Modal Price: 4300.0\n",
            "Min Price: 6500.0, Max Price: 7000.0, Modal Price: 6800.0\n"
          ]
        }
      ],
      "source": [
        "def get_price_info(data, state, district, market, commodity, variety, grade):\n",
        "    # Filter the dataset based on the input parameters\n",
        "    filtered_data = data[(data['State'] == state) & \n",
        "                         (data['District'] == district) & \n",
        "                         (data['Market'] == market) & \n",
        "                         (data['Commodity'] == commodity) & \n",
        "                         (data['Variety'] == variety) & \n",
        "                         (data['Grade'] == grade)]\n",
        "    \n",
        "    if filtered_data.empty:\n",
        "        return \"No matching data found\"\n",
        "    \n",
        "    # Extract the price information\n",
        "    min_price = filtered_data['Min_x0020_Price'].values[0]\n",
        "    max_price = filtered_data['Max_x0020_Price'].values[0]\n",
        "    modal_price = filtered_data['Modal_x0020_Price'].values[0]\n",
        "    \n",
        "    return f\"Min Price: {min_price}, Max Price: {max_price}, Modal Price: {modal_price}\"\n",
        "\n",
        "# Example usage:\n",
        "# Assuming 'data' is your pandas DataFrame containing the dataset\n",
        "\n",
        "# # For the first row:\n",
        "# print(get_price_info(data, \"Andhra Pradesh\", \"Chittor\", \"Punganur\", \"Tomato\", \"Hybrid\", \"FAQ\"))\n",
        "\n",
        "# # For the second row:\n",
        "# print(get_price_info(data, \"Andhra Pradesh\", \"Visakhapatnam\", \"Anakapalli\", \"Gur(Jaggery)\", \"NO 1\", \"FAQ\"))\n",
        "\n",
        "# # For the third row:\n",
        "# print(get_price_info(data, \"Bihar\", \"Banka\", \"Barahat\", \"Onion\", \"Medium\", \"FAQ\"))\n",
        "\n",
        "# # For the fourth row:\n",
        "# print(get_price_info(data, \"Bihar\", \"Kishanganj\", \"Bahadurganj\", \"Red Gram\", \"AL-15\", \"FAQ\"))"
      ]
    },
    {
      "cell_type": "code",
      "execution_count": null,
      "metadata": {},
      "outputs": [],
      "source": []
    }
  ],
  "metadata": {
    "accelerator": "GPU",
    "colab": {
      "provenance": []
    },
    "gpuClass": "standard",
    "kernelspec": {
      "display_name": "Python 3.9.7 64-bit",
      "language": "python",
      "name": "python3"
    },
    "language_info": {
      "codemirror_mode": {
        "name": "ipython",
        "version": 3
      },
      "file_extension": ".py",
      "mimetype": "text/x-python",
      "name": "python",
      "nbconvert_exporter": "python",
      "pygments_lexer": "ipython3",
      "version": "3.12.1"
    },
    "vscode": {
      "interpreter": {
        "hash": "8c93b56f12893a73f3fb26b619faf35eb67f0f4410719b74190040acf104b72e"
      }
    }
  },
  "nbformat": 4,
  "nbformat_minor": 0
}
